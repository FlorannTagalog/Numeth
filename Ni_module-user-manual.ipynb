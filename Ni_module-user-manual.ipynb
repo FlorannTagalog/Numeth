{
 "cells": [
  {
   "cell_type": "markdown",
   "metadata": {},
   "source": [
    "# Ni_module Package User Manual\n",
    "Members:<br>\n",
    "Columba, Lorenzo Miguel L.<br>\n",
    "Datay, Danica Mae L.<br>\n",
    "Embuscado, Khayle Anthony L.<br>\n",
    "Tagalog, Florann B. <br>\n",
    "\n",
    "## About\n",
    "This user manual contains instructions on how to use and implement the package on other programs. ni_module package is consists of modules that will help you find the roots of a given equation by inserting the required parameters in each module.\n",
    "### Step 1: Import the ni_module package "
   ]
  },
  {
   "cell_type": "code",
   "execution_count": 2,
   "metadata": {},
   "outputs": [],
   "source": [
    "import ni_module as nm"
   ]
  },
  {
   "cell_type": "markdown",
   "metadata": {},
   "source": [
    "### Step 2: Define a given Equation "
   ]
  },
  {
   "cell_type": "code",
   "execution_count": null,
   "metadata": {},
   "outputs": [],
   "source": [
    "#equations \n",
    "f= lambda x: x**2+5*x+6\n",
    "x_p = lambda x: 2*x + 5\n",
    "x= lambda x: x**3 - np.sin(x)**3 - 4*x + 1"
   ]
  },
  {
   "cell_type": "markdown",
   "metadata": {},
   "source": [
    "### Step 3: Choose a desired method to use for finding\n",
    "The package contains the modules listed below<br>\n",
    "\n",
    "- Simple Iteration Method\n",
    "- Newton Rhapson Method\n",
    "- Bisection Method\n",
    "- Regula Falsi Method\n",
    "- secant method\n",
    "### Step 4: Provide the required parameter in the module choosen \n"
   ]
  },
  {
   "cell_type": "markdown",
   "metadata": {},
   "source": [
    "### Simple Iteration Method\n",
    "This method require the user to give a equation to solve and a initial guess<br>\n",
    "<i>f</i> is equal to the defined equation and <i>-5</i> is the initial guess input by the user  "
   ]
  },
  {
   "cell_type": "code",
   "execution_count": null,
   "metadata": {},
   "outputs": [],
   "source": [
    "#Simple Iteration Method single root\n",
    "nm.simp_iter(f,-5)"
   ]
  },
  {
   "cell_type": "code",
   "execution_count": null,
   "metadata": {},
   "outputs": [],
   "source": [
    "#Simple Iteration Method n root\n",
    "nm.simp_iter_n(f,-5) "
   ]
  },
  {
   "cell_type": "markdown",
   "metadata": {},
   "source": [
    "### Newton Rhapson Method\n",
    "This method require the user to give a equation to solve,a initial guess, and the derivative of given equation\n",
    "<i>f</i> is equal to the defined equation,<i>-5</i> is the initial guess input by the user, and <i>x_p</i> is equal to the declared derivative equation of <i>f</i>  "
   ]
  },
  {
   "cell_type": "code",
   "execution_count": 3,
   "metadata": {},
   "outputs": [
    {
     "name": "stdout",
     "output_type": "stream",
     "text": [
      "the root is  -3.0000023178253943 at epoch 5\n"
     ]
    }
   ],
   "source": [
    "# single roots newton method \n",
    "nm.newt(f,-5,x_p)"
   ]
  },
  {
   "cell_type": "code",
   "execution_count": 6,
   "metadata": {},
   "outputs": [
    {
     "name": "stdout",
     "output_type": "stream",
     "text": [
      "roots are  [-2.] found at 7\n"
     ]
    }
   ],
   "source": [
    "# n root newton method \n",
    "g_range= np.arange(0,5)\n",
    "nm.newt_n(f,g_range,x_p)"
   ]
  },
  {
   "cell_type": "markdown",
   "metadata": {},
   "source": [
    "### Bisection Method\n",
    "This method require the user to give a equation to solve, 2 initial guesses, and a tolerance. f is equal to the defined equation,2 and 3 is the 2 initial guesses input by the user, and <i>1e-10</i> is equal to the tolerance. Tolerance is used to define the level of error "
   ]
  },
  {
   "cell_type": "code",
   "execution_count": 9,
   "metadata": {},
   "outputs": [
    {
     "name": "stdout",
     "output_type": "stream",
     "text": [
      "The root is 2.9999999999417923 \n",
      " found at 35 bisections\n"
     ]
    }
   ],
   "source": [
    "#bisection single \n",
    "nm.bisec( 2 ,3,1e-10,f)"
   ]
  },
  {
   "cell_type": "code",
   "execution_count": 10,
   "metadata": {},
   "outputs": [
    {
     "data": {
      "image/png": "[encoded data removed]",
      "text/plain": [
       "<Figure size 432x288 with 1 Axes>"
      ]
     },
     "metadata": {
      "needs_background": "light"
     },
     "output_type": "display_data"
    },
    {
     "name": "stdout",
     "output_type": "stream",
     "text": [
      "The root are [-2. -2.] \n",
      " found at bisections: 34\n"
     ]
    }
   ],
   "source": [
    "# bisection n roots \n",
    "nm.bisec_n(f,1.5,2,1e-10)"
   ]
  },
  {
   "cell_type": "markdown",
   "metadata": {},
   "source": [
    "### Regula Falsi (False Position Method)\n",
    "This method require the user to give a equation to solve, and 2 initial guesses. f is equal to the defined equation,1 and 5 is the 2 initial guesses input by the user."
   ]
  },
  {
   "cell_type": "code",
   "execution_count": 11,
   "metadata": {},
   "outputs": [
    {
     "name": "stdout",
     "output_type": "stream",
     "text": [
      "the root is  1.9719431995217 \n",
      " at epoach: 60\n"
     ]
    }
   ],
   "source": [
    "# false position method single root \n",
    "nm.false_pos(x,1,5)"
   ]
  },
  {
   "cell_type": "markdown",
   "metadata": {},
   "source": [
    "### Secant Method \n",
    "This method require the user to give a equation to solve, and 2 initial guesses. f is equal to the defined equation,1 and 3 is the 2 initial guesses input by the user."
   ]
  },
  {
   "cell_type": "code",
   "execution_count": 17,
   "metadata": {},
   "outputs": [
    {
     "name": "stdout",
     "output_type": "stream",
     "text": [
      "the root is  1.2792256701238998 \n",
      " at epoach: 99\n"
     ]
    }
   ],
   "source": [
    "nm.sec_meth(x,1,3)"
   ]
  },
  {
   "cell_type": "markdown",
   "metadata": {},
   "source": [
    "## Activity 2.1 "
   ]
  },
  {
   "cell_type": "markdown",
   "metadata": {},
   "source": [
    "1. Identify **two more polynomials** preferably **orders higher than 2** and **two transcendental functions**. Write them in **LaTex**.\n",
    "2. Plot their graphs you may choose your own set of pre-images.\n",
    "3. Manually solve for their roots and plot them along the graph of the equation."
   ]
  },
  {
   "cell_type": "code",
   "execution_count": 3,
   "metadata": {},
   "outputs": [],
   "source": [
    "import numpy as np\n",
    "import math\n",
    "import matplotlib.pyplot as plt"
   ]
  },
  {
   "cell_type": "markdown",
   "metadata": {},
   "source": [
    "## Polynomials with orders higher than 2"
   ]
  },
  {
   "cell_type": "markdown",
   "metadata": {},
   "source": [
    "$$f(x) = x^3 + 2x^2 -x -2 \\\\ roots: -2,-1,1$$"
   ]
  },
  {
   "cell_type": "code",
   "execution_count": 4,
   "metadata": {},
   "outputs": [],
   "source": [
    "def f(x): return x**3+2*x**2-x-2"
   ]
  },
  {
   "cell_type": "code",
   "execution_count": 5,
   "metadata": {},
   "outputs": [],
   "source": [
    "x0, x1 ,x2 = -2, -1, 1"
   ]
  },
  {
   "cell_type": "code",
   "execution_count": 6,
   "metadata": {},
   "outputs": [
    {
     "name": "stdout",
     "output_type": "stream",
     "text": [
      "[-10.  -9.  -8.  -7.  -6.  -5.  -4.  -3.  -2.  -1.   0.   1.   2.   3.\n",
      "   4.   5.   6.   7.   8.   9.  10.]\n"
     ]
    }
   ],
   "source": [
    "X = np.arange(-10,11,1,dtype=float)\n",
    "print(X)"
   ]
  },
  {
   "cell_type": "code",
   "execution_count": 7,
   "metadata": {},
   "outputs": [
    {
     "name": "stdout",
     "output_type": "stream",
     "text": [
      "[-792. -560. -378. -240. -140.  -72.  -30.   -8.    0.    0.   -2.    0.\n",
      "   12.   40.   90.  168.  280.  432.  630.  880. 1188.]\n"
     ]
    }
   ],
   "source": [
    "Y = f(X)\n",
    "print(Y)"
   ]
  },
  {
   "cell_type": "code",
   "execution_count": 8,
   "metadata": {},
   "outputs": [
    {
     "data": {
      "image/png": "[encoded data removed]",
      "text/plain": [
       "<Figure size 720x360 with 1 Axes>"
      ]
     },
     "metadata": {
      "needs_background": "light"
     },
     "output_type": "display_data"
    }
   ],
   "source": [
    "plt.figure(figsize=(10,5))\n",
    "plt.plot(X,Y,color='dodgerblue')\n",
    "plt.axhline(color='black')\n",
    "plt.axvline(color='black')\n",
    "plt.grid()\n",
    "plt.scatter([x0,x1,x2],[0,0,0], c='red', label='roots')\n",
    "\n",
    "plt.legend()\n",
    "plt.show()"
   ]
  },
  {
   "cell_type": "markdown",
   "metadata": {},
   "source": [
    "$$y = -x^3+3x+2 \\\\ roots = 2,-1,-1 $$"
   ]
  },
  {
   "cell_type": "code",
   "execution_count": 16,
   "metadata": {},
   "outputs": [],
   "source": [
    "def f(x): return -x**3+3*x+2"
   ]
  },
  {
   "cell_type": "code",
   "execution_count": 18,
   "metadata": {},
   "outputs": [],
   "source": [
    "x0, x1 ,x2 = 2, -1, -1"
   ]
  },
  {
   "cell_type": "code",
   "execution_count": 19,
   "metadata": {},
   "outputs": [
    {
     "name": "stdout",
     "output_type": "stream",
     "text": [
      "[-10.  -9.  -8.  -7.  -6.  -5.  -4.  -3.  -2.  -1.   0.   1.   2.   3.\n",
      "   4.   5.   6.   7.   8.   9.  10.]\n"
     ]
    }
   ],
   "source": [
    "X = np.arange(-10,11,1,dtype=float)\n",
    "print(X)"
   ]
  },
  {
   "cell_type": "code",
   "execution_count": 20,
   "metadata": {},
   "outputs": [
    {
     "name": "stdout",
     "output_type": "stream",
     "text": [
      "[ 972.  704.  490.  324.  200.  112.   54.   20.    4.    0.    2.    4.\n",
      "    0.  -16.  -50. -108. -196. -320. -486. -700. -968.]\n"
     ]
    }
   ],
   "source": [
    "Y = f(X)\n",
    "print(Y)"
   ]
  },
  {
   "cell_type": "code",
   "execution_count": 21,
   "metadata": {},
   "outputs": [
    {
     "data": {
      "image/png": "[encoded data removed]",
      "text/plain": [
       "<Figure size 720x360 with 1 Axes>"
      ]
     },
     "metadata": {
      "needs_background": "light"
     },
     "output_type": "display_data"
    }
   ],
   "source": [
    "plt.figure(figsize=(10,5))\n",
    "plt.plot(X,Y,color='dodgerblue')\n",
    "plt.axhline(color='black')\n",
    "plt.axvline(color='black')\n",
    "plt.grid()\n",
    "plt.scatter([x0,x1,x2],[0,0,0], c='red', label='roots')\n",
    "\n",
    "plt.legend()\n",
    "plt.show()"
   ]
  },
  {
   "cell_type": "markdown",
   "metadata": {},
   "source": [
    "## Transcendental functions\n",
    "$$f(x) = \\arcsin x$$"
   ]
  },
  {
   "cell_type": "code",
   "execution_count": 22,
   "metadata": {},
   "outputs": [],
   "source": [
    "def f(x):\n",
    "    return np.arcsin(x)"
   ]
  },
  {
   "cell_type": "code",
   "execution_count": 23,
   "metadata": {},
   "outputs": [
    {
     "name": "stdout",
     "output_type": "stream",
     "text": [
      "[-1.   -0.85 -0.7  -0.55 -0.4  -0.25 -0.1   0.05  0.2   0.35  0.5   0.65\n",
      "  0.8   0.95]\n"
     ]
    }
   ],
   "source": [
    "X = np.arange(-1,1,0.15,dtype=float)\n",
    "print(X)"
   ]
  },
  {
   "cell_type": "code",
   "execution_count": 24,
   "metadata": {},
   "outputs": [
    {
     "name": "stdout",
     "output_type": "stream",
     "text": [
      "[-1.57079633 -1.01598529 -0.7753975  -0.58236424 -0.41151685 -0.25268026\n",
      " -0.10016742  0.05002086  0.20135792  0.3575711   0.52359878  0.70758444\n",
      "  0.92729522  1.2532359 ]\n"
     ]
    }
   ],
   "source": [
    "Q = f(X)\n",
    "print(Q)"
   ]
  },
  {
   "cell_type": "code",
   "execution_count": 25,
   "metadata": {},
   "outputs": [
    {
     "data": {
      "image/png": "[encoded data removed]",
      "text/plain": [
       "<Figure size 720x360 with 1 Axes>"
      ]
     },
     "metadata": {
      "needs_background": "light"
     },
     "output_type": "display_data"
    }
   ],
   "source": [
    "plt.figure(figsize=(10,5))\n",
    "plt.plot(X,Q,color='dodgerblue')\n",
    "plt.axhline(color='black')\n",
    "plt.axvline(color='black')\n",
    "plt.grid()\n",
    "plt.scatter(0,0, c='red', label='roots')\n",
    "\n",
    "plt.legend()\n",
    "plt.show()"
   ]
  },
  {
   "cell_type": "markdown",
   "metadata": {},
   "source": [
    "$$f(x) = \\arctan x$$"
   ]
  },
  {
   "cell_type": "code",
   "execution_count": 26,
   "metadata": {},
   "outputs": [],
   "source": [
    "def f(x):\n",
    "    return np.arctan(x)"
   ]
  },
  {
   "cell_type": "code",
   "execution_count": 27,
   "metadata": {},
   "outputs": [],
   "source": [
    "x0 = 0"
   ]
  },
  {
   "cell_type": "code",
   "execution_count": 28,
   "metadata": {},
   "outputs": [
    {
     "name": "stdout",
     "output_type": "stream",
     "text": [
      "[-1.   -0.85 -0.7  -0.55 -0.4  -0.25 -0.1   0.05  0.2   0.35  0.5   0.65\n",
      "  0.8   0.95]\n"
     ]
    }
   ],
   "source": [
    "X = np.arange(-1,1,0.15,dtype=float)\n",
    "print(X)"
   ]
  },
  {
   "cell_type": "code",
   "execution_count": 29,
   "metadata": {},
   "outputs": [
    {
     "name": "stdout",
     "output_type": "stream",
     "text": [
      "[-0.78539816 -0.70449406 -0.61072596 -0.50284321 -0.38050638 -0.24497866\n",
      " -0.09966865  0.0499584   0.19739556  0.33667482  0.46364761  0.57637522\n",
      "  0.67474094  0.75976275]\n"
     ]
    }
   ],
   "source": [
    "Q = f(X)\n",
    "print(Q)"
   ]
  },
  {
   "cell_type": "code",
   "execution_count": 30,
   "metadata": {},
   "outputs": [
    {
     "data": {
      "image/png": "[encoded data removed]",
      "text/plain": [
       "<Figure size 720x360 with 1 Axes>"
      ]
     },
     "metadata": {
      "needs_background": "light"
     },
     "output_type": "display_data"
    }
   ],
   "source": [
    "plt.figure(figsize=(10,5))\n",
    "plt.plot(X,Q,color='dodgerblue')\n",
    "plt.axhline(color='black')\n",
    "plt.axvline(color='black')\n",
    "plt.grid()\n",
    "plt.scatter(x0,0, c='red', label='roots')\n",
    "\n",
    "plt.legend()\n",
    "plt.show()"
   ]
  },
  {
   "cell_type": "code",
   "execution_count": null,
   "metadata": {},
   "outputs": [],
   "source": []
  }
 ],
 "metadata": {
  "kernelspec": {
   "display_name": "Python 3",
   "language": "python",
   "name": "python3"
  },
  "language_info": {
   "codemirror_mode": {
    "name": "ipython",
    "version": 3
   },
   "file_extension": ".py",
   "mimetype": "text/x-python",
   "name": "python",
   "nbconvert_exporter": "python",
   "pygments_lexer": "ipython3",
   "version": "3.8.3"
  }
 },
 "nbformat": 4,
 "nbformat_minor": 4
}
