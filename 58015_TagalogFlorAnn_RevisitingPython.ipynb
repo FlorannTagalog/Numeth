{
  "nbformat": 4,
  "nbformat_minor": 0,
  "metadata": {
    "colab": {
      "name": "58015_TagalogFlorAnn_RevisitingPython",
      "provenance": [],
      "collapsed_sections": [],
      "include_colab_link": true
    },
    "kernelspec": {
      "name": "python3",
      "display_name": "Python 3"
    }
  },
  "cells": [
    {
      "cell_type": "markdown",
      "metadata": {
        "id": "view-in-github",
        "colab_type": "text"
      },
      "source": [
        "<a href=\"https://colab.research.google.com/github/FlorannTagalog/Numeth/blob/main/58015_TagalogFlorAnn_RevisitingPython.ipynb\" target=\"_parent\"><img src=\"https://colab.research.google.com/assets/colab-badge.svg\" alt=\"Open In Colab\"/></a>"
      ]
    },
    {
      "cell_type": "markdown",
      "metadata": {
        "id": "QnAdk8hy7Bl9"
      },
      "source": [
        "# Welcome to Python Fundamentals\r\n",
        " *by F.A. Tagalog ©2021*\r\n",
        " \r\n",
        "In this module, we are going to establish or review our skills in Python programming. In this notebook we are going to cover:\r\n",
        "* Variables and Data Types \r\n",
        "* Operations\r\n",
        "* Input and Output Operations\r\n",
        "* Logic Control\r\n",
        "* Iterables\r\n",
        "* Functions"
      ]
    },
    {
      "cell_type": "markdown",
      "metadata": {
        "id": "T6ABRAjTT1Ta"
      },
      "source": [
        "## Variable and Data Types"
      ]
    },
    {
      "cell_type": "markdown",
      "metadata": {
        "id": "cGXkaAJQaypA"
      },
      "source": [
        "Data type is an important concept in programming. Variables can store data with different types and different types can do different things. \r\n",
        "\r\n",
        "There are various data types in python these are:\r\n",
        "*   Numeric Types:\tint, float, complex\r\n",
        "*   Text Type:\tstr\r\n",
        "*   Sequence Types:\tlist, tuple, range\r\n",
        "*   Mapping Type:\tdict\r\n",
        "*   Set Types:\tset, frozenset\r\n",
        "*   Boolean Type:\tbool\r\n",
        "*   Binary Types:\tbytes, bytearray, memoryview\r\n",
        "\r\n",
        "\r\n",
        "\r\n",
        "\r\n"
      ]
    },
    {
      "cell_type": "markdown",
      "metadata": {
        "id": "fWXqMqlVbvW9"
      },
      "source": [
        "In example 1 we have variables x, a, and b with different values. If you want to know the type of x then use the type() function and input the variable name or letter inside of the parenthesis. Since x has a value of 1, and 1 is a whole number then the type of x is int, same as a and b. "
      ]
    },
    {
      "cell_type": "code",
      "metadata": {
        "id": "G8JI3DTZ616F"
      },
      "source": [
        "x = 1\r\n",
        "a,b = 0, -1"
      ],
      "execution_count": null,
      "outputs": []
    },
    {
      "cell_type": "code",
      "metadata": {
        "id": "QLT9rz2dUJ95",
        "colab": {
          "base_uri": "https://localhost:8080/"
        },
        "outputId": "46a0c469-c88e-476a-be1e-a9bc0b592611"
      },
      "source": [
        "type(b)"
      ],
      "execution_count": null,
      "outputs": [
        {
          "output_type": "execute_result",
          "data": {
            "text/plain": [
              "int"
            ]
          },
          "metadata": {
            "tags": []
          },
          "execution_count": 2
        }
      ]
    },
    {
      "cell_type": "markdown",
      "metadata": {
        "id": "We_p3Pnddsvb"
      },
      "source": [
        "In example 2 since y has a value of 1.0, and 1.0 is a decimal number then the type of y is float. "
      ]
    },
    {
      "cell_type": "code",
      "metadata": {
        "id": "TR_rvX4SUWqx"
      },
      "source": [
        "y = 1.0\r\n",
        "type(y)"
      ],
      "execution_count": null,
      "outputs": []
    },
    {
      "cell_type": "markdown",
      "metadata": {
        "id": "9NQVIsu_e2wy"
      },
      "source": [
        "If you want to convert or change the variable with a certain data type into  a different data type just use the casting method. So in example 3, variable x is originally 1 and has a datatype of int and if I want to change it into float the value of x will become 1.0 "
      ]
    },
    {
      "cell_type": "code",
      "metadata": {
        "id": "FqV2upOiXcnC",
        "colab": {
          "base_uri": "https://localhost:8080/"
        },
        "outputId": "7f7c037a-79a8-41c7-9fbc-ab8d09e66bef"
      },
      "source": [
        "x = float(x)\r\n",
        "type(x)"
      ],
      "execution_count": null,
      "outputs": [
        {
          "output_type": "execute_result",
          "data": {
            "text/plain": [
              "float"
            ]
          },
          "metadata": {
            "tags": []
          },
          "execution_count": 4
        }
      ]
    },
    {
      "cell_type": "code",
      "metadata": {
        "colab": {
          "base_uri": "https://localhost:8080/"
        },
        "id": "IENXlBSOsLBa",
        "outputId": "209c7932-d367-4d48-f314-146116b067bd"
      },
      "source": [
        "print(x)"
      ],
      "execution_count": null,
      "outputs": [
        {
          "output_type": "stream",
          "text": [
            "1.0\n"
          ],
          "name": "stdout"
        }
      ]
    },
    {
      "cell_type": "markdown",
      "metadata": {
        "id": "3PSg997FswiA"
      },
      "source": [
        "Like other programming languages, strings in python are just like arrays of bytes representing unicode characters. In python the single quotation marks are the same as double quotation marks.  So for the last example of data type, given the variables of letter s, t, and u with their values of \"0\", '1' and 'one' is an example of string. As seen in the example s with the value of '0' is a string"
      ]
    },
    {
      "cell_type": "code",
      "metadata": {
        "id": "2tuyqwmyXiDb",
        "colab": {
          "base_uri": "https://localhost:8080/"
        },
        "outputId": "db09113c-1402-4229-eeb9-886bf0e311d3"
      },
      "source": [
        "s,t,u = \"0\", '1', 'one'\r\n",
        "type(s)"
      ],
      "execution_count": null,
      "outputs": [
        {
          "output_type": "execute_result",
          "data": {
            "text/plain": [
              "str"
            ]
          },
          "metadata": {
            "tags": []
          },
          "execution_count": 29
        }
      ]
    },
    {
      "cell_type": "code",
      "metadata": {
        "colab": {
          "base_uri": "https://localhost:8080/",
          "height": 35
        },
        "id": "7zHhQH39wZV6",
        "outputId": "15c96ec2-98cf-4824-90f0-665fcea1e1cc"
      },
      "source": [
        "s"
      ],
      "execution_count": null,
      "outputs": [
        {
          "output_type": "execute_result",
          "data": {
            "application/vnd.google.colaboratory.intrinsic+json": {
              "type": "string"
            },
            "text/plain": [
              "'0'"
            ]
          },
          "metadata": {
            "tags": []
          },
          "execution_count": 30
        }
      ]
    },
    {
      "cell_type": "markdown",
      "metadata": {
        "id": "0k89BtvZw3qK"
      },
      "source": [
        "If you want to change the datatype of s to int then use again the casting method. As seen in the example once you convert it into int the value of s is now 0. "
      ]
    },
    {
      "cell_type": "code",
      "metadata": {
        "id": "6JwWqHx3XlmB",
        "colab": {
          "base_uri": "https://localhost:8080/"
        },
        "outputId": "e819a321-0f87-4435-98b5-9b564d795aa2"
      },
      "source": [
        "s_int = int(s)\r\n",
        "s_int"
      ],
      "execution_count": null,
      "outputs": [
        {
          "output_type": "execute_result",
          "data": {
            "text/plain": [
              "0"
            ]
          },
          "metadata": {
            "tags": []
          },
          "execution_count": 31
        }
      ]
    },
    {
      "cell_type": "code",
      "metadata": {
        "colab": {
          "base_uri": "https://localhost:8080/"
        },
        "id": "5r8NEWsrxVx8",
        "outputId": "01b66859-779b-4de6-b517-175e4a527bf0"
      },
      "source": [
        "type(s_int)"
      ],
      "execution_count": null,
      "outputs": [
        {
          "output_type": "execute_result",
          "data": {
            "text/plain": [
              "int"
            ]
          },
          "metadata": {
            "tags": []
          },
          "execution_count": 33
        }
      ]
    },
    {
      "cell_type": "markdown",
      "metadata": {
        "id": "9RgPwQR4YVG5"
      },
      "source": [
        "## Operations\r\n",
        "In python, operators are used to perform operations on variables and values. These are special symbols used to perform arithmetic and logical operations.\r\n",
        " \r\n",
        " \r\n",
        "Below are the examples of the operators in the following groups\r\n"
      ]
    },
    {
      "cell_type": "markdown",
      "metadata": {
        "id": "mvoS_zuJYbsg"
      },
      "source": [
        "### Arithmetic\r\n",
        "Arithmetic Operators, used to perform arithmetic operations like addition, subtraction, multiplication and division. \r\n",
        "\r\n",
        "Below are the examples using arithmetic operations.Given the variables a,b,c, and d with their values 2.0, -0.5,0, -32. "
      ]
    },
    {
      "cell_type": "code",
      "metadata": {
        "id": "DSjUO0KcYoE-"
      },
      "source": [
        "a,b,c,d = 2.0, -0.5, 0, -32"
      ],
      "execution_count": null,
      "outputs": []
    },
    {
      "cell_type": "code",
      "metadata": {
        "id": "o_kk0XFzYX9o",
        "colab": {
          "base_uri": "https://localhost:8080/"
        },
        "outputId": "a002da8f-f57d-45c4-a1e3-955196870dfb"
      },
      "source": [
        "### Addition\r\n",
        "S = a+b\r\n",
        "S"
      ],
      "execution_count": null,
      "outputs": [
        {
          "output_type": "execute_result",
          "data": {
            "text/plain": [
              "1.5"
            ]
          },
          "metadata": {
            "tags": []
          },
          "execution_count": 35
        }
      ]
    },
    {
      "cell_type": "code",
      "metadata": {
        "id": "TC5oFq3MY4jk",
        "colab": {
          "base_uri": "https://localhost:8080/"
        },
        "outputId": "d4eb6690-ad31-4560-f56c-1c8c89f210d0"
      },
      "source": [
        "### Subtraction\r\n",
        "D = b-d\r\n",
        "D"
      ],
      "execution_count": null,
      "outputs": [
        {
          "output_type": "execute_result",
          "data": {
            "text/plain": [
              "31.5"
            ]
          },
          "metadata": {
            "tags": []
          },
          "execution_count": 36
        }
      ]
    },
    {
      "cell_type": "code",
      "metadata": {
        "id": "j0bGayj5Y9wr",
        "colab": {
          "base_uri": "https://localhost:8080/"
        },
        "outputId": "efae9b3f-73a5-4f84-9193-580437f96a50"
      },
      "source": [
        "### Multiplication\r\n",
        "P = a*d\r\n",
        "P"
      ],
      "execution_count": null,
      "outputs": [
        {
          "output_type": "execute_result",
          "data": {
            "text/plain": [
              "-64.0"
            ]
          },
          "metadata": {
            "tags": []
          },
          "execution_count": 16
        }
      ]
    },
    {
      "cell_type": "code",
      "metadata": {
        "id": "FnMWmq5LZLEU",
        "colab": {
          "base_uri": "https://localhost:8080/"
        },
        "outputId": "da259703-88d2-4fd8-bae4-892968a160a0"
      },
      "source": [
        "### Division\r\n",
        "Q = c/a\r\n",
        "Q"
      ],
      "execution_count": null,
      "outputs": [
        {
          "output_type": "execute_result",
          "data": {
            "text/plain": [
              "0.0"
            ]
          },
          "metadata": {
            "tags": []
          },
          "execution_count": 38
        }
      ]
    },
    {
      "cell_type": "code",
      "metadata": {
        "id": "cQeVcFIWZd8o",
        "colab": {
          "base_uri": "https://localhost:8080/"
        },
        "outputId": "eebb6730-da04-49b6-f7ce-1800fafcb320"
      },
      "source": [
        "### Floor Division\r\n",
        "Fq = a//b\r\n",
        "Fq"
      ],
      "execution_count": null,
      "outputs": [
        {
          "output_type": "execute_result",
          "data": {
            "text/plain": [
              "-4.0"
            ]
          },
          "metadata": {
            "tags": []
          },
          "execution_count": 15
        }
      ]
    },
    {
      "cell_type": "markdown",
      "metadata": {
        "id": "lFcTrK7CfNLD"
      },
      "source": [
        "In exponentiation the operator ** is used to raise the number on the left to the power of the exponent of the right. So for the example a is the base while the b is exponent "
      ]
    },
    {
      "cell_type": "code",
      "metadata": {
        "id": "YLaUu6APZSzR",
        "colab": {
          "base_uri": "https://localhost:8080/"
        },
        "outputId": "c69eac4d-5919-4cee-a3e0-96b04cd99eda"
      },
      "source": [
        "### Exponentiation\r\n",
        "E = a**b\r\n",
        "E"
      ],
      "execution_count": null,
      "outputs": [
        {
          "output_type": "execute_result",
          "data": {
            "text/plain": [
              "0.7071067811865476"
            ]
          },
          "metadata": {
            "tags": []
          },
          "execution_count": 40
        }
      ]
    },
    {
      "cell_type": "markdown",
      "metadata": {
        "id": "zBv5Er6ggXC0"
      },
      "source": [
        "Modulus operator is denoted by the % (percent sign). It is used to get the remainder of the left operand by the right. "
      ]
    },
    {
      "cell_type": "code",
      "metadata": {
        "id": "uf_0sf4CZ1JT",
        "colab": {
          "base_uri": "https://localhost:8080/"
        },
        "outputId": "a4c16028-ac01-454b-f7a8-60e58bc2bc2b"
      },
      "source": [
        "### Modulo\r\n",
        "mod = d%a\r\n",
        "mod"
      ],
      "execution_count": null,
      "outputs": [
        {
          "output_type": "execute_result",
          "data": {
            "text/plain": [
              "0.0"
            ]
          },
          "metadata": {
            "tags": []
          },
          "execution_count": 41
        }
      ]
    },
    {
      "cell_type": "markdown",
      "metadata": {
        "id": "afyWvb1ZaJJ6"
      },
      "source": [
        "# Assignment Operations\r\n",
        "In python, assignment operation is used to assign values to variables. There several compound operators in python like a += 2.0 that adds the same, later assigns the same. It is equivalent to a = a + 2.0"
      ]
    },
    {
      "cell_type": "code",
      "metadata": {
        "id": "rMZ8r4WhanaE"
      },
      "source": [
        "G, H, J, K = 0, 100, 2, 2"
      ],
      "execution_count": null,
      "outputs": []
    },
    {
      "cell_type": "markdown",
      "metadata": {
        "id": "F1rws2Kbhxxv"
      },
      "source": [
        "In this example, since variable G has 0 value and a is 2.0 then the it will be G = G + a. That's why the output is like that  "
      ]
    },
    {
      "cell_type": "code",
      "metadata": {
        "id": "IX0EbJ8RaMih",
        "colab": {
          "base_uri": "https://localhost:8080/"
        },
        "outputId": "94b5d86b-8e2f-4c95-8d47-27fd23af62fc"
      },
      "source": [
        "G += a\r\n",
        "G"
      ],
      "execution_count": null,
      "outputs": [
        {
          "output_type": "execute_result",
          "data": {
            "text/plain": [
              "2.0"
            ]
          },
          "metadata": {
            "tags": []
          },
          "execution_count": 34
        }
      ]
    },
    {
      "cell_type": "markdown",
      "metadata": {
        "id": "SOegO7jHkrG_"
      },
      "source": [
        "Same as the previous one but it is the minus sign. So since the value of H is 100 and the value of d is -32. So it will be 100-(-32) and it will become an addition because of the negative sign. The equivalent of this example is H= H - d\r\n",
        "\r\n"
      ]
    },
    {
      "cell_type": "code",
      "metadata": {
        "colab": {
          "base_uri": "https://localhost:8080/"
        },
        "id": "dvKN_eg2kegN",
        "outputId": "30e915be-4cd7-48d7-820b-48931a6fc7a7"
      },
      "source": [
        "H -= d\r\n",
        "H"
      ],
      "execution_count": null,
      "outputs": [
        {
          "output_type": "execute_result",
          "data": {
            "text/plain": [
              "132"
            ]
          },
          "metadata": {
            "tags": []
          },
          "execution_count": 46
        }
      ]
    },
    {
      "cell_type": "markdown",
      "metadata": {
        "id": "iBbtgsxGlTLW"
      },
      "source": [
        "The operator *= is just like you multiply j to 2 since j has a value of 2 if you multiply it to 2 then the result will become 4. The equivalent of this example is J= J x 2"
      ]
    },
    {
      "cell_type": "code",
      "metadata": {
        "id": "vuuDbAbNaXgS",
        "colab": {
          "base_uri": "https://localhost:8080/"
        },
        "outputId": "3e601f60-d473-4fe5-fd6f-648082d70680"
      },
      "source": [
        "J *= 2\r\n",
        "J"
      ],
      "execution_count": null,
      "outputs": [
        {
          "output_type": "execute_result",
          "data": {
            "text/plain": [
              "4"
            ]
          },
          "metadata": {
            "tags": []
          },
          "execution_count": 47
        }
      ]
    },
    {
      "cell_type": "markdown",
      "metadata": {
        "id": "2V43hELMmYNw"
      },
      "source": [
        "In this example, the operator ** is just like the exponentian. "
      ]
    },
    {
      "cell_type": "code",
      "metadata": {
        "id": "sGVXGduUaeAj",
        "colab": {
          "base_uri": "https://localhost:8080/"
        },
        "outputId": "9b4bcc38-fb46-4f42-ad91-34a0b3f3575f"
      },
      "source": [
        "K **= 2\r\n",
        "K"
      ],
      "execution_count": null,
      "outputs": [
        {
          "output_type": "execute_result",
          "data": {
            "text/plain": [
              "4"
            ]
          },
          "metadata": {
            "tags": []
          },
          "execution_count": 48
        }
      ]
    },
    {
      "cell_type": "markdown",
      "metadata": {
        "id": "UGXuqhVNbW7R"
      },
      "source": [
        "### Comparators\r\n",
        "Comparison Operators are used to compare values. It returns either True or False according to the condition. "
      ]
    },
    {
      "cell_type": "code",
      "metadata": {
        "id": "Oj9xLaEaYeuY"
      },
      "source": [
        "res_1, res_2, res_3 = 1, 2.0, \"1\"\r\n",
        "true_val = 1.0"
      ],
      "execution_count": null,
      "outputs": []
    },
    {
      "cell_type": "markdown",
      "metadata": {
        "id": "17qRYQEdoODo"
      },
      "source": [
        "Operator == means equal to, it is true if both operands are equal"
      ]
    },
    {
      "cell_type": "code",
      "metadata": {
        "id": "GEXm6RSsbA8Q",
        "colab": {
          "base_uri": "https://localhost:8080/"
        },
        "outputId": "5825810e-48c7-403f-a266-40c0740194aa"
      },
      "source": [
        "## Equality\r\n",
        "res_1 == true_val"
      ],
      "execution_count": null,
      "outputs": [
        {
          "output_type": "execute_result",
          "data": {
            "text/plain": [
              "True"
            ]
          },
          "metadata": {
            "tags": []
          },
          "execution_count": 50
        }
      ]
    },
    {
      "cell_type": "markdown",
      "metadata": {
        "id": "f-GXv4KzukQS"
      },
      "source": [
        "Not equal !=, true if operands are not equal"
      ]
    },
    {
      "cell_type": "code",
      "metadata": {
        "id": "SdHk_b58bZhD",
        "colab": {
          "base_uri": "https://localhost:8080/"
        },
        "outputId": "ae60c0d6-d902-4520-e48c-3d85a817c0c7"
      },
      "source": [
        "## Non-equality\r\n",
        "res_2 != true_val"
      ],
      "execution_count": null,
      "outputs": [
        {
          "output_type": "execute_result",
          "data": {
            "text/plain": [
              "True"
            ]
          },
          "metadata": {
            "tags": []
          },
          "execution_count": 51
        }
      ]
    },
    {
      "cell_type": "markdown",
      "metadata": {
        "id": "YRX29llevYz-"
      },
      "source": [
        "In this example, it uses greater than and less than operator, just like the previous example it returns either false or true based on the condition. "
      ]
    },
    {
      "cell_type": "code",
      "metadata": {
        "id": "EnA4q50JbQB5",
        "colab": {
          "base_uri": "https://localhost:8080/"
        },
        "outputId": "45d40593-8ff6-4946-ec66-a38ec0c7adff"
      },
      "source": [
        "## Inequality\r\n",
        "t1 = res_1 > res_2\r\n",
        "t2 = res_1 < res_2/2\r\n",
        "t3 = res_1 >= res_2/2\r\n",
        "t4 = res_1 <= res_2  \r\n",
        "t1"
      ],
      "execution_count": null,
      "outputs": [
        {
          "output_type": "execute_result",
          "data": {
            "text/plain": [
              "False"
            ]
          },
          "metadata": {
            "tags": []
          },
          "execution_count": 52
        }
      ]
    },
    {
      "cell_type": "markdown",
      "metadata": {
        "id": "9WkfdvbfcC1Y"
      },
      "source": [
        "### Logical\r\n",
        "Logical operators are the and, or, not operators."
      ]
    },
    {
      "cell_type": "code",
      "metadata": {
        "id": "cYVG6YeNb-Gz"
      },
      "source": [
        "res_1 == true_val"
      ],
      "execution_count": null,
      "outputs": []
    },
    {
      "cell_type": "markdown",
      "metadata": {
        "id": "jmzHWUUbwZ0K"
      },
      "source": [
        "The \"is\" and \"is not\" operators are for Identity operator. They are used to compare the memory locations of the object. For is operator it is true if the operands are identical while for is not operator, it is true if the operands are not identical. Additionally, two variables that are equal does not imply that they are identical.\r\n",
        "\r\n",
        "Just like the example, res_1 value is 1 while true_val is 1.0. Yes, they are equal since both of them are 1 but they are not identical since res_1 is int while the true_val is float. "
      ]
    },
    {
      "cell_type": "code",
      "metadata": {
        "id": "rLe6hpkHcN-z",
        "colab": {
          "base_uri": "https://localhost:8080/"
        },
        "outputId": "b5f634bb-abdd-4fe2-9694-4d29be6bfe39"
      },
      "source": [
        "res_1 is true_val"
      ],
      "execution_count": null,
      "outputs": [
        {
          "output_type": "execute_result",
          "data": {
            "text/plain": [
              "False"
            ]
          },
          "metadata": {
            "tags": []
          },
          "execution_count": 59
        }
      ]
    },
    {
      "cell_type": "code",
      "metadata": {
        "id": "tr5qxHQmcO-C",
        "colab": {
          "base_uri": "https://localhost:8080/"
        },
        "outputId": "ceebcc7e-d3b9-44e0-cb9b-72d99a0cdf6a"
      },
      "source": [
        "res_1 is not true_val"
      ],
      "execution_count": null,
      "outputs": [
        {
          "output_type": "execute_result",
          "data": {
            "text/plain": [
              "True"
            ]
          },
          "metadata": {
            "tags": []
          },
          "execution_count": 54
        }
      ]
    },
    {
      "cell_type": "markdown",
      "metadata": {
        "id": "7HZ5jCxE05QG"
      },
      "source": [
        "Given the values of p and q, true if both the operands are true for the and operator. In this case since the value of q is false then the result is both.\r\n",
        "Just like in the truth table for conjunction if there is one false automatically the answer is false. \r\n"
      ]
    },
    {
      "cell_type": "code",
      "metadata": {
        "id": "3GU72N-Gcslz",
        "colab": {
          "base_uri": "https://localhost:8080/"
        },
        "outputId": "6684e2f8-aaf5-4a3f-e6d6-517491b712ef"
      },
      "source": [
        "p, q = True, False\r\n",
        "conj = p and q\r\n",
        "conj"
      ],
      "execution_count": null,
      "outputs": [
        {
          "output_type": "execute_result",
          "data": {
            "text/plain": [
              "False"
            ]
          },
          "metadata": {
            "tags": []
          },
          "execution_count": 70
        }
      ]
    },
    {
      "cell_type": "markdown",
      "metadata": {
        "id": "gj4yY7a62If7"
      },
      "source": [
        "For the or operator, it is true if either of the operands is true. "
      ]
    },
    {
      "cell_type": "code",
      "metadata": {
        "id": "ihMxcT6KcvQj",
        "colab": {
          "base_uri": "https://localhost:8080/"
        },
        "outputId": "068fe99f-37c6-4c20-d47c-176a1f127e30"
      },
      "source": [
        "p, q = True, False\r\n",
        "disj = p or q\r\n",
        "disj"
      ],
      "execution_count": null,
      "outputs": [
        {
          "output_type": "execute_result",
          "data": {
            "text/plain": [
              "True"
            ]
          },
          "metadata": {
            "tags": []
          },
          "execution_count": 64
        }
      ]
    },
    {
      "cell_type": "markdown",
      "metadata": {
        "id": "EUTZQHbc2TWl"
      },
      "source": [
        "For nand operator, true if operand is false"
      ]
    },
    {
      "cell_type": "code",
      "metadata": {
        "id": "T-QfmeYgcyGQ",
        "colab": {
          "base_uri": "https://localhost:8080/"
        },
        "outputId": "17db5fe0-f576-4c96-f427-c7e95bab12d6"
      },
      "source": [
        "p, q = True, False\r\n",
        "nand = not(p and q)\r\n",
        "nand"
      ],
      "execution_count": null,
      "outputs": [
        {
          "output_type": "execute_result",
          "data": {
            "text/plain": [
              "True"
            ]
          },
          "metadata": {
            "tags": []
          },
          "execution_count": 72
        }
      ]
    },
    {
      "cell_type": "code",
      "metadata": {
        "id": "2HL7SlVbc10k",
        "colab": {
          "base_uri": "https://localhost:8080/"
        },
        "outputId": "3cfe8c21-7d42-431b-c664-1e7f14317966"
      },
      "source": [
        "p, q = True, False\r\n",
        "xor = (not p and q) or (p and not q)\r\n",
        "xor"
      ],
      "execution_count": null,
      "outputs": [
        {
          "output_type": "execute_result",
          "data": {
            "text/plain": [
              "True"
            ]
          },
          "metadata": {
            "tags": []
          },
          "execution_count": 75
        }
      ]
    },
    {
      "cell_type": "markdown",
      "metadata": {
        "id": "AQx4DKafYffJ"
      },
      "source": [
        "### I/O\r\n",
        "Using Input and Output Operations helps the developer on how we can take inputs from users and how to show it to them. Since there are programs that require data from users. "
      ]
    },
    {
      "cell_type": "markdown",
      "metadata": {
        "id": "LZGU7sWO4ken"
      },
      "source": [
        " The basic one example is to print the output that says \"Hello World\". So basically whatever you input inside the print() function, it automatically prints the specified message. "
      ]
    },
    {
      "cell_type": "code",
      "metadata": {
        "id": "Q-DVERG5Yk9w",
        "colab": {
          "base_uri": "https://localhost:8080/"
        },
        "outputId": "1d5b4780-2226-40a6-f275-19d58496bea7"
      },
      "source": [
        "print(\"Hello World\")"
      ],
      "execution_count": null,
      "outputs": [
        {
          "output_type": "stream",
          "text": [
            "Hello World\n"
          ],
          "name": "stdout"
        }
      ]
    },
    {
      "cell_type": "code",
      "metadata": {
        "id": "fS5wN51beSVF"
      },
      "source": [
        "cnt = 1\r\n"
      ],
      "execution_count": null,
      "outputs": []
    },
    {
      "cell_type": "markdown",
      "metadata": {
        "id": "MidyqQJd5RTe"
      },
      "source": [
        "Using the cnt = 1 whenever you run the code it will add one since cnt +=1 is equivalent to cnt= cnt + 1, So in this example it shows that you can call the variable inside of the print. "
      ]
    },
    {
      "cell_type": "code",
      "metadata": {
        "id": "hKNaUXmdZdUo",
        "colab": {
          "base_uri": "https://localhost:8080/"
        },
        "outputId": "48444cc4-f52b-4fda-a83d-7f6629cbbd7a"
      },
      "source": [
        "string = \"Hello World\"\r\n",
        "print(string, \", Current run count is:\", cnt)\r\n",
        "cnt += 1"
      ],
      "execution_count": null,
      "outputs": [
        {
          "output_type": "stream",
          "text": [
            "Hello World , Current run count is: 3\n"
          ],
          "name": "stdout"
        }
      ]
    },
    {
      "cell_type": "code",
      "metadata": {
        "id": "15_WdzEZcOVX",
        "colab": {
          "base_uri": "https://localhost:8080/"
        },
        "outputId": "d847b510-f008-475d-98a8-5432fbf2db01"
      },
      "source": [
        "print(f\"{string}, Current count is: {cnt}\")"
      ],
      "execution_count": null,
      "outputs": [
        {
          "output_type": "stream",
          "text": [
            "Hello World, Current count is: 4\n"
          ],
          "name": "stdout"
        }
      ]
    },
    {
      "cell_type": "markdown",
      "metadata": {
        "id": "E-NnJkUl667d"
      },
      "source": [
        "In this example given the variables sem_grade and name, so whatever I input to these variables it will appear once you run it. The.format() function is used to format values and insert them to inside the string placeholder. "
      ]
    },
    {
      "cell_type": "code",
      "metadata": {
        "id": "5m9XtFOPcOXo",
        "colab": {
          "base_uri": "https://localhost:8080/"
        },
        "outputId": "83c5ab21-ff46-4c9e-d300-744078e3bdd2"
      },
      "source": [
        "sem_grade = 82.243564657461234\r\n",
        "name = \"flor\"\r\n",
        "print(\"Hello {}, your semestral grade is: {}\".format(name, sem_grade))"
      ],
      "execution_count": null,
      "outputs": [
        {
          "output_type": "stream",
          "text": [
            "Hello flor, your semestral grade is: 82.24356465746123\n"
          ],
          "name": "stdout"
        }
      ]
    },
    {
      "cell_type": "code",
      "metadata": {
        "id": "SMJx6bTnfdgZ",
        "colab": {
          "base_uri": "https://localhost:8080/"
        },
        "outputId": "c92dfdce-1562-4439-eb7d-abbd0d1faea1"
      },
      "source": [
        "w_pg, w_mg, w_fg = 0.3, 0.3, 0.4\r\n",
        "print(\"The weights of your semestral grades are:\\\r\n",
        "\\n\\t{:.2%} for Prelims\\\r\n",
        "\\n\\t{:.2%} for Midterms, and\\\r\n",
        "\\n\\t{:.2%} for Finals.\".format(w_pg, w_mg, w_fg))"
      ],
      "execution_count": null,
      "outputs": [
        {
          "output_type": "stream",
          "text": [
            "The weights of your semestral grades are:\n",
            "\t30.00% for Prelims\n",
            "\t30.00% for Midterms, and\n",
            "\t40.00% for Finals.\n"
          ],
          "name": "stdout"
        }
      ]
    },
    {
      "cell_type": "code",
      "metadata": {
        "id": "Ob2I_zR3jAcZ",
        "colab": {
          "base_uri": "https://localhost:8080/",
          "height": 52
        },
        "outputId": "a2fdccb0-d472-452c-92c3-c938c1d9f611"
      },
      "source": [
        "x = input(\"enter a number: \")\r\n",
        "x"
      ],
      "execution_count": null,
      "outputs": [
        {
          "output_type": "stream",
          "text": [
            "enter a number: 26\n"
          ],
          "name": "stdout"
        },
        {
          "output_type": "execute_result",
          "data": {
            "application/vnd.google.colaboratory.intrinsic+json": {
              "type": "string"
            },
            "text/plain": [
              "'26'"
            ]
          },
          "metadata": {
            "tags": []
          },
          "execution_count": 84
        }
      ]
    },
    {
      "cell_type": "code",
      "metadata": {
        "id": "T7ODFfcMh9Pg",
        "colab": {
          "base_uri": "https://localhost:8080/"
        },
        "outputId": "70a5b51c-1c0b-4514-a045-5a58d2f08f49"
      },
      "source": [
        "name = input(\"Kimi no nawa: \")\r\n",
        "pg = input(\"Enter prelim grade: \")\r\n",
        "mg = input(\"Enter midterm grade: \")\r\n",
        "fg = input(\"Enter finals grade: \")\r\n",
        "sem_grade = None\r\n",
        "print(\"Hello {}, your semestral grade is: {}\".format(name, sem_grade))"
      ],
      "execution_count": null,
      "outputs": [
        {
          "output_type": "stream",
          "text": [
            "Kimi no nawa: flor\n",
            "Enter prelim grade: 80\n",
            "Enter midterm grade: 90\n",
            "Enter finals grade: 80\n",
            "Hello flor, your semestral grade is: None\n"
          ],
          "name": "stdout"
        }
      ]
    },
    {
      "cell_type": "markdown",
      "metadata": {
        "id": "i0g3EothhvqL"
      },
      "source": [
        "# Looping Statements\r\n",
        "In python it provides the following types of loops to handle looping requirements. \r\n"
      ]
    },
    {
      "cell_type": "markdown",
      "metadata": {
        "id": "j4w90VAIjcFJ"
      },
      "source": [
        "## While\r\n",
        "While loop, can execute a set of statements as long as the condition is true. "
      ]
    },
    {
      "cell_type": "markdown",
      "metadata": {
        "id": "wIf4DPxP_sWk"
      },
      "source": [
        "In this example, given the values of variables i and j ,the \"i\" will start at 0 and \"j\" will start at 10. Then it will be the values of i and j. Using the operator i+=1 results in 0-10 of i values since we are adding 1 until we got the value of j which is 10. "
      ]
    },
    {
      "cell_type": "code",
      "metadata": {
        "id": "4vtSrBPThlse",
        "colab": {
          "base_uri": "https://localhost:8080/"
        },
        "outputId": "31a96283-e515-4da5-dd99-b4311580b2e7"
      },
      "source": [
        "## while loops\r\n",
        "i, j = 0, 10\r\n",
        "while(i<=j):\r\n",
        "    print(f\"{i}\\t|\\t{j}\")\r\n",
        "    i+=1"
      ],
      "execution_count": null,
      "outputs": [
        {
          "output_type": "stream",
          "text": [
            "0\t|\t10\n",
            "1\t|\t10\n",
            "2\t|\t10\n",
            "3\t|\t10\n",
            "4\t|\t10\n",
            "5\t|\t10\n",
            "6\t|\t10\n",
            "7\t|\t10\n",
            "8\t|\t10\n",
            "9\t|\t10\n",
            "10\t|\t10\n"
          ],
          "name": "stdout"
        }
      ]
    },
    {
      "cell_type": "markdown",
      "metadata": {
        "id": "Qz6AH6jRjfUg"
      },
      "source": [
        "## For\r\n",
        "\r\n",
        "for loop is used for iterating over a sequence that is either a list, tuple a dictionary, a string or a set. \r\n",
        " \r\n",
        "To loop through a set of code a specified number of times, we can use range() function, it returns a sequence of numbers, starting 0 by default and increments by 1, and ends at specified number. In this example, given the value of i, and the range of 10 then the output will be 0 to 9.\r\n"
      ]
    },
    {
      "cell_type": "code",
      "metadata": {
        "id": "q0DUwfRkjZY7",
        "colab": {
          "base_uri": "https://localhost:8080/"
        },
        "outputId": "f4de7f6c-ee89-4d26-dce7-a28af9587323"
      },
      "source": [
        "# for(int i=0; i<10; i++){\r\n",
        "# printf(i)\r\n",
        "# }\r\n",
        "\r\n",
        "i=0\r\n",
        "for i in range(10):\r\n",
        "    print(i)"
      ],
      "execution_count": null,
      "outputs": [
        {
          "output_type": "stream",
          "text": [
            "0\n",
            "1\n",
            "2\n",
            "3\n",
            "4\n",
            "5\n",
            "6\n",
            "7\n",
            "8\n",
            "9\n"
          ],
          "name": "stdout"
        }
      ]
    },
    {
      "cell_type": "markdown",
      "metadata": {
        "id": "aUbNbfnpr50f"
      },
      "source": [
        "for loop can execute a set of statements in a list, tuple, and set. Like this example we have a list of the playlist so whatever we input songs to our playlist, will appear in the output."
      ]
    },
    {
      "cell_type": "code",
      "metadata": {
        "id": "zaM--lUhjiUg",
        "colab": {
          "base_uri": "https://localhost:8080/"
        },
        "outputId": "682cf91b-7463-4be5-d894-ea4aad7b517c"
      },
      "source": [
        "playlist = ['I like me better','Shallow','Ill Never Love Again']\r\n",
        "print('Now Playing:\\n')\r\n",
        "for song in playlist:\r\n",
        "    print(song)"
      ],
      "execution_count": null,
      "outputs": [
        {
          "output_type": "stream",
          "text": [
            "Now Playing:\n",
            "\n",
            "I like me better\n",
            "Shallow\n",
            "Ill Never Love Again\n"
          ],
          "name": "stdout"
        }
      ]
    },
    {
      "cell_type": "markdown",
      "metadata": {
        "id": "N6jTqTZojnSg"
      },
      "source": [
        "# Flow Control"
      ]
    },
    {
      "cell_type": "markdown",
      "metadata": {
        "id": "uhnsV2CijrWQ"
      },
      "source": [
        "## Condition Statements\r\n",
        "  Condition statements are statements that control the flow of executing depending on some condition. Unlike other programming languages that use curly brackets, python relies on indention to define the scope of the line. \r\n"
      ]
    },
    {
      "cell_type": "markdown",
      "metadata": {
        "id": "40Y4kVbGzwep"
      },
      "source": [
        "  In this example, given the variables of numeral1 and numeral2, if the numeral1 and numeral 2 are equal then it will print \"Yey\" and \"Hip Hip\" since we put another print function after all the condition. If the previous one is not true then another condition which we use elif keyword, for elif we use greater than operator. As seen in the example if numeral1 is greater then numeral2 then it will \"Hoho\" and \"Hip Hip\". The else keyword catches anything which isn't caught by the preceding conditions. Since numeral1 and numeral2 are equal then it will print the yey and hip hip words. "
      ]
    },
    {
      "cell_type": "code",
      "metadata": {
        "id": "seJplrJojmTg",
        "colab": {
          "base_uri": "https://localhost:8080/"
        },
        "outputId": "1f1784e6-69e3-4269-ea47-44fea7aff285"
      },
      "source": [
        "numeral1, numeral2 = 12, 12\r\n",
        "if(numeral1 == numeral2):\r\n",
        "    print(\"Yey\")\r\n",
        "elif(numeral1>numeral2):\r\n",
        "    print(\"Hoho\")\r\n",
        "else:\r\n",
        "    print(\"Aww\")\r\n",
        "print(\"Hip hip\")"
      ],
      "execution_count": null,
      "outputs": [
        {
          "output_type": "stream",
          "text": [
            "Yey\n",
            "Hip hip\n"
          ],
          "name": "stdout"
        }
      ]
    },
    {
      "cell_type": "markdown",
      "metadata": {
        "id": "tlnG1OKilNLo"
      },
      "source": [
        "# Functions\r\n",
        "A function is a block of code which only runs when it is called. Allows you to pass data, known as parameters,into a function and it can also return data as result. "
      ]
    },
    {
      "cell_type": "markdown",
      "metadata": {
        "id": "yzZFaMNS14Ob"
      },
      "source": [
        "\"def\" is short for define. It is used to define a function so all the code you put between def function_name(parameters) and end will be executed every time you call the function_name. "
      ]
    },
    {
      "cell_type": "code",
      "metadata": {
        "id": "1iMUEipnlUKY"
      },
      "source": [
        "# void DeleteUser(int userid){\r\n",
        "#     delete(userid);\r\n",
        "# }\r\n",
        "\r\n",
        "def delete_user (userid):\r\n",
        "    print(\"Successfully deleted user: {}\".format(userid))\r\n",
        "    \r\n",
        "def delete_all_users ():\r\n",
        "    print(\"Successfully deleted all users\")"
      ],
      "execution_count": null,
      "outputs": []
    },
    {
      "cell_type": "code",
      "metadata": {
        "id": "v_TkrftylUEA",
        "colab": {
          "base_uri": "https://localhost:8080/"
        },
        "outputId": "389b18c3-2001-4351-ecf0-c25d8c7094fc"
      },
      "source": [
        "userid = 0\r\n",
        "delete_user(0)\r\n",
        "delete_all_users()"
      ],
      "execution_count": null,
      "outputs": [
        {
          "output_type": "stream",
          "text": [
            "Successfully deleted user: 0\n",
            "Successfully deleted all users\n"
          ],
          "name": "stdout"
        }
      ]
    },
    {
      "cell_type": "markdown",
      "metadata": {
        "id": "alKJJ6JA07GN"
      },
      "source": [
        "Below are the examples that shows we can perform operation inside. "
      ]
    },
    {
      "cell_type": "code",
      "metadata": {
        "id": "M0ffjw31lT8Y"
      },
      "source": [
        "def add(addend1, addend2):\r\n",
        "    return addend1 + addend2\r\n",
        "\r\n",
        "def power_of_base2(exponent):\r\n",
        "    return 2**exponent"
      ],
      "execution_count": null,
      "outputs": []
    },
    {
      "cell_type": "code",
      "metadata": {
        "colab": {
          "base_uri": "https://localhost:8080/"
        },
        "id": "une0VEJI1Gkk",
        "outputId": "6ff3c342-5543-41fd-dad1-403b79001dc2"
      },
      "source": [
        "add(5,10)"
      ],
      "execution_count": null,
      "outputs": [
        {
          "output_type": "execute_result",
          "data": {
            "text/plain": [
              "15"
            ]
          },
          "metadata": {
            "tags": []
          },
          "execution_count": 15
        }
      ]
    },
    {
      "cell_type": "code",
      "metadata": {
        "colab": {
          "base_uri": "https://localhost:8080/"
        },
        "id": "mfv7e9qP1MmD",
        "outputId": "69e0b205-83db-440c-973e-76211279507f"
      },
      "source": [
        "power_of_base2(5)"
      ],
      "execution_count": null,
      "outputs": [
        {
          "output_type": "execute_result",
          "data": {
            "text/plain": [
              "32"
            ]
          },
          "metadata": {
            "tags": []
          },
          "execution_count": 17
        }
      ]
    },
    {
      "cell_type": "markdown",
      "metadata": {
        "id": "2_tDT01oFEGQ"
      },
      "source": [
        "### Lambda Functions\r\n",
        "Lambda function is a small anonymous function, it can take any number of arguments, but can only have one expression. "
      ]
    },
    {
      "cell_type": "markdown",
      "metadata": {
        "id": "22FlGlYE3luZ"
      },
      "source": [
        "In this example, given the value of x if we declared f(x), it will return the results. "
      ]
    },
    {
      "cell_type": "code",
      "metadata": {
        "id": "tmmBNW9pFg-4"
      },
      "source": [
        "x = 4"
      ],
      "execution_count": null,
      "outputs": []
    },
    {
      "cell_type": "code",
      "metadata": {
        "id": "_9KYzCrIFCpI",
        "colab": {
          "base_uri": "https://localhost:8080/"
        },
        "outputId": "a5a64a3c-03e5-4b61-9ec9-ebe8d805e15f"
      },
      "source": [
        "def f(x):\r\n",
        "  return 2*(x*x)-1\r\n",
        "f(x)"
      ],
      "execution_count": null,
      "outputs": [
        {
          "output_type": "execute_result",
          "data": {
            "text/plain": [
              "31"
            ]
          },
          "metadata": {
            "tags": []
          },
          "execution_count": 22
        }
      ]
    },
    {
      "cell_type": "markdown",
      "metadata": {
        "id": "Q_-_wxcD4bxo"
      },
      "source": [
        "In this example it shows that lamda can also perform with one line "
      ]
    },
    {
      "cell_type": "code",
      "metadata": {
        "id": "a2uwKwqFFafn",
        "colab": {
          "base_uri": "https://localhost:8080/"
        },
        "outputId": "8972ccb5-d22e-453e-cc4e-0662581e0855"
      },
      "source": [
        "g = lambda x: 2*(x*x)-1\r\n",
        "print(g(x))"
      ],
      "execution_count": null,
      "outputs": [
        {
          "output_type": "stream",
          "text": [
            "31\n"
          ],
          "name": "stdout"
        }
      ]
    },
    {
      "cell_type": "code",
      "metadata": {
        "id": "Rjm9RFrGlMgA"
      },
      "source": [
        "'''\r\n",
        "Create a grade calculator that computes for the semestral grade of a course.\r\n",
        "Students could type their names, the name of the course, then their prelim,\r\n",
        "midterm, and final grade.\r\n",
        "The program should print the semestral grade in 2 decimal points and should\r\n",
        "display the following emojis depending on the situation:\r\n",
        "happy - when grade is greater than 70.00\r\n",
        "laughing - when grade is exactly 70.00\r\n",
        "sad - when grade is below 70.00\r\n",
        "'''\r\n",
        "happy, lol, sad = \"\\U0001F600\",\"\\U0001F923\",\"\\U0001F619\""
      ],
      "execution_count": null,
      "outputs": []
    },
    {
      "cell_type": "code",
      "metadata": {
        "colab": {
          "base_uri": "https://localhost:8080/"
        },
        "id": "j9Nkuux84trh",
        "outputId": "ff472b5e-bb07-42cd-e1e3-502bcac5fc87"
      },
      "source": [
        "def compute_grade():\r\n",
        "    name = input(\"Enter you name: \")\r\n",
        "    course = input(\"Enter the name of the course:\")\r\n",
        "    prelim = float(input(\"Enter prelim grade: \"))\r\n",
        "    midterm = float(input(\"Enter midterm grade: \"))\r\n",
        "    finals = float(input(\"Enter final grade: \"))\r\n",
        "    pg, mg, fg = 0.3, 0.3, 0.4\r\n",
        "    sem_grade = prelim*pg + midterm*mg + finals*fg\r\n",
        "    print(\"Hello {}, your semestral grade is: {}\".format(name, sem_grade))\r\n",
        "    if(sem_grade > 70):\r\n",
        "        print(\"\\U0001F600\")\r\n",
        "    elif(sem_grade==70):\r\n",
        "         print(\"\\U0001F923\")\r\n",
        "    else:\r\n",
        "        print(\"\\U0001F619\")\r\n",
        "compute_grade()"
      ],
      "execution_count": null,
      "outputs": [
        {
          "output_type": "stream",
          "text": [
            "Enter you name: Flor-Ann Tagalog\n",
            "Enter the name of the course:Numeth\n",
            "Enter prelim grade: 80\n",
            "Enter midterm grade: 85\n",
            "Enter final grade: 90\n",
            "Hello Flor-Ann Tagalog, your semestral grade is: 85.5\n",
            "😀\n"
          ],
          "name": "stdout"
        }
      ]
    },
    {
      "cell_type": "markdown",
      "metadata": {
        "id": "aWz0pAhbyLZS"
      },
      "source": [
        "### References\r\n",
        "[1] W3 Schools (2021). [***W3 Schools: Python Data Types***](https://www.w3schools.com/python/python_datatypes.asp)\r\n",
        "\r\n",
        "[2] W3 Schools (2021). [***W3 Schools: Python Strings***](https://www.w3schools.com/python/python_strings.asp)\r\n",
        "\r\n",
        "[3] Programiz. [***Programiz: Python Operators***](https://www.programiz.com/python-programming/operators)\r\n",
        "\r\n",
        "[4]  W3 Schools (2021). [***W3 Schools: While loops***](https://www.w3schools.com/python/python_while_loops.asp)\r\n",
        "\r\n",
        "[5] W3 Schools (2021). [***W3 Schools: Python For Loops***](https://www.w3schools.com/python/python_for_loops.asp)\r\n",
        "\r\n",
        "[6]  W3 Schools (2021). [***W3 Schools: Python Conditions***](https://www.w3schools.com/python/python_conditions.asp)\r\n",
        "\r\n",
        "[7] W3 Schools (2021). [***W3 Schools: Python Functions***](https://www.w3schools.com/python/python_functions.asp)\r\n",
        "\r\n",
        "[8] W3 Schools (2021). [***W3 Schools: Python Lamdda***](https://www.w3schools.com/python/python_lambda.asp)"
      ]
    }
  ]
}